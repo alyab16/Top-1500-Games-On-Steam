{
 "cells": [
  {
   "cell_type": "code",
   "execution_count": 1,
   "id": "4e1f3a61",
   "metadata": {
    "_cell_guid": "b1076dfc-b9ad-4769-8c92-a6c4dae69d19",
    "_uuid": "8f2839f25d086af736a60e9eeb907d3b93b6e0e5",
    "execution": {
     "iopub.execute_input": "2024-09-17T11:08:34.626030Z",
     "iopub.status.busy": "2024-09-17T11:08:34.625308Z",
     "iopub.status.idle": "2024-09-17T11:08:35.126117Z",
     "shell.execute_reply": "2024-09-17T11:08:35.124258Z"
    },
    "papermill": {
     "duration": 0.509912,
     "end_time": "2024-09-17T11:08:35.129203",
     "exception": false,
     "start_time": "2024-09-17T11:08:34.619291",
     "status": "completed"
    },
    "tags": []
   },
   "outputs": [
    {
     "name": "stdout",
     "output_type": "stream",
     "text": [
      "/kaggle/input/top-1500-games-on-steam-by-revenue-09-09-2024/Steam_2024_bestRevenue_1500.csv\n"
     ]
    }
   ],
   "source": [
    "# This Python 3 environment comes with many helpful analytics libraries installed\n",
    "# It is defined by the kaggle/python Docker image: https://github.com/kaggle/docker-python\n",
    "# For example, here's several helpful packages to load\n",
    "\n",
    "import numpy as np # linear algebra\n",
    "import pandas as pd # data processing, CSV file I/O (e.g. pd.read_csv)\n",
    "\n",
    "# Input data files are available in the read-only \"../input/\" directory\n",
    "# For example, running this (by clicking run or pressing Shift+Enter) will list all files under the input directory\n",
    "\n",
    "import os\n",
    "for dirname, _, filenames in os.walk('/kaggle/input'):\n",
    "    for filename in filenames:\n",
    "        print(os.path.join(dirname, filename))\n",
    "\n",
    "# You can write up to 20GB to the current directory (/kaggle/working/) that gets preserved as output when you create a version using \"Save & Run All\" \n",
    "# You can also write temporary files to /kaggle/temp/, but they won't be saved outside of the current session"
   ]
  },
  {
   "cell_type": "code",
   "execution_count": 2,
   "id": "2884ff1c",
   "metadata": {
    "execution": {
     "iopub.execute_input": "2024-09-17T11:08:35.138264Z",
     "iopub.status.busy": "2024-09-17T11:08:35.137657Z",
     "iopub.status.idle": "2024-09-17T11:08:35.199925Z",
     "shell.execute_reply": "2024-09-17T11:08:35.198584Z"
    },
    "papermill": {
     "duration": 0.069749,
     "end_time": "2024-09-17T11:08:35.202575",
     "exception": false,
     "start_time": "2024-09-17T11:08:35.132826",
     "status": "completed"
    },
    "tags": []
   },
   "outputs": [
    {
     "data": {
      "text/html": [
       "<div>\n",
       "<style scoped>\n",
       "    .dataframe tbody tr th:only-of-type {\n",
       "        vertical-align: middle;\n",
       "    }\n",
       "\n",
       "    .dataframe tbody tr th {\n",
       "        vertical-align: top;\n",
       "    }\n",
       "\n",
       "    .dataframe thead th {\n",
       "        text-align: right;\n",
       "    }\n",
       "</style>\n",
       "<table border=\"1\" class=\"dataframe\">\n",
       "  <thead>\n",
       "    <tr style=\"text-align: right;\">\n",
       "      <th></th>\n",
       "      <th>name</th>\n",
       "      <th>releaseDate</th>\n",
       "      <th>copiesSold</th>\n",
       "      <th>price</th>\n",
       "      <th>revenue</th>\n",
       "      <th>avgPlaytime</th>\n",
       "      <th>reviewScore</th>\n",
       "      <th>publisherClass</th>\n",
       "      <th>publishers</th>\n",
       "      <th>developers</th>\n",
       "      <th>steamId</th>\n",
       "    </tr>\n",
       "  </thead>\n",
       "  <tbody>\n",
       "    <tr>\n",
       "      <th>0</th>\n",
       "      <td>WWE 2K24</td>\n",
       "      <td>07-03-2024</td>\n",
       "      <td>165301</td>\n",
       "      <td>99.99</td>\n",
       "      <td>8055097.0</td>\n",
       "      <td>42.365140</td>\n",
       "      <td>71</td>\n",
       "      <td>AAA</td>\n",
       "      <td>2K</td>\n",
       "      <td>Visual Concepts</td>\n",
       "      <td>2315690</td>\n",
       "    </tr>\n",
       "    <tr>\n",
       "      <th>1</th>\n",
       "      <td>EARTH DEFENSE FORCE 6</td>\n",
       "      <td>25-07-2024</td>\n",
       "      <td>159806</td>\n",
       "      <td>59.99</td>\n",
       "      <td>7882151.0</td>\n",
       "      <td>29.651061</td>\n",
       "      <td>57</td>\n",
       "      <td>Indie</td>\n",
       "      <td>D3PUBLISHER</td>\n",
       "      <td>SANDLOT</td>\n",
       "      <td>2291060</td>\n",
       "    </tr>\n",
       "    <tr>\n",
       "      <th>2</th>\n",
       "      <td>Sins of a Solar Empire II</td>\n",
       "      <td>15-08-2024</td>\n",
       "      <td>214192</td>\n",
       "      <td>49.99</td>\n",
       "      <td>7815247.0</td>\n",
       "      <td>12.452593</td>\n",
       "      <td>88</td>\n",
       "      <td>Indie</td>\n",
       "      <td>Stardock Entertainment</td>\n",
       "      <td>Ironclad Games Corporation,Stardock Entertainment</td>\n",
       "      <td>1575940</td>\n",
       "    </tr>\n",
       "    <tr>\n",
       "      <th>3</th>\n",
       "      <td>Legend of Mortal</td>\n",
       "      <td>14-06-2024</td>\n",
       "      <td>440998</td>\n",
       "      <td>19.99</td>\n",
       "      <td>7756399.0</td>\n",
       "      <td>24.797817</td>\n",
       "      <td>76</td>\n",
       "      <td>Indie</td>\n",
       "      <td>Paras Games,Obb Studio Inc.</td>\n",
       "      <td>Obb Studio Inc.</td>\n",
       "      <td>1859910</td>\n",
       "    </tr>\n",
       "    <tr>\n",
       "      <th>4</th>\n",
       "      <td>Shin Megami Tensei V: Vengeance</td>\n",
       "      <td>13-06-2024</td>\n",
       "      <td>141306</td>\n",
       "      <td>59.99</td>\n",
       "      <td>7629252.0</td>\n",
       "      <td>34.258496</td>\n",
       "      <td>96</td>\n",
       "      <td>AA</td>\n",
       "      <td>SEGA</td>\n",
       "      <td>ATLUS</td>\n",
       "      <td>1875830</td>\n",
       "    </tr>\n",
       "  </tbody>\n",
       "</table>\n",
       "</div>"
      ],
      "text/plain": [
       "                              name releaseDate  copiesSold  price    revenue  \\\n",
       "0                         WWE 2K24  07-03-2024      165301  99.99  8055097.0   \n",
       "1            EARTH DEFENSE FORCE 6  25-07-2024      159806  59.99  7882151.0   \n",
       "2        Sins of a Solar Empire II  15-08-2024      214192  49.99  7815247.0   \n",
       "3                 Legend of Mortal  14-06-2024      440998  19.99  7756399.0   \n",
       "4  Shin Megami Tensei V: Vengeance  13-06-2024      141306  59.99  7629252.0   \n",
       "\n",
       "   avgPlaytime  reviewScore publisherClass                   publishers  \\\n",
       "0    42.365140           71            AAA                           2K   \n",
       "1    29.651061           57          Indie                  D3PUBLISHER   \n",
       "2    12.452593           88          Indie       Stardock Entertainment   \n",
       "3    24.797817           76          Indie  Paras Games,Obb Studio Inc.   \n",
       "4    34.258496           96             AA                         SEGA   \n",
       "\n",
       "                                          developers  steamId  \n",
       "0                                    Visual Concepts  2315690  \n",
       "1                                            SANDLOT  2291060  \n",
       "2  Ironclad Games Corporation,Stardock Entertainment  1575940  \n",
       "3                                    Obb Studio Inc.  1859910  \n",
       "4                                              ATLUS  1875830  "
      ]
     },
     "execution_count": 2,
     "metadata": {},
     "output_type": "execute_result"
    }
   ],
   "source": [
    "df = pd.read_csv(\"/kaggle/input/top-1500-games-on-steam-by-revenue-09-09-2024/Steam_2024_bestRevenue_1500.csv\")\n",
    "df.head()"
   ]
  },
  {
   "cell_type": "markdown",
   "id": "554b08c7",
   "metadata": {
    "papermill": {
     "duration": 0.003373,
     "end_time": "2024-09-17T11:08:35.209857",
     "exception": false,
     "start_time": "2024-09-17T11:08:35.206484",
     "status": "completed"
    },
    "tags": []
   },
   "source": [
    "# Exploratory Data Analysis"
   ]
  },
  {
   "cell_type": "code",
   "execution_count": 3,
   "id": "351000a5",
   "metadata": {
    "execution": {
     "iopub.execute_input": "2024-09-17T11:08:35.218989Z",
     "iopub.status.busy": "2024-09-17T11:08:35.218407Z",
     "iopub.status.idle": "2024-09-17T11:08:37.030062Z",
     "shell.execute_reply": "2024-09-17T11:08:37.028856Z"
    },
    "papermill": {
     "duration": 1.819395,
     "end_time": "2024-09-17T11:08:37.032869",
     "exception": false,
     "start_time": "2024-09-17T11:08:35.213474",
     "status": "completed"
    },
    "tags": []
   },
   "outputs": [],
   "source": [
    "import matplotlib.pyplot as plt\n",
    "import seaborn as sns"
   ]
  },
  {
   "cell_type": "code",
   "execution_count": 4,
   "id": "ee620e22",
   "metadata": {
    "execution": {
     "iopub.execute_input": "2024-09-17T11:08:37.042837Z",
     "iopub.status.busy": "2024-09-17T11:08:37.041738Z",
     "iopub.status.idle": "2024-09-17T11:08:37.612664Z",
     "shell.execute_reply": "2024-09-17T11:08:37.611347Z"
    },
    "papermill": {
     "duration": 0.578926,
     "end_time": "2024-09-17T11:08:37.615513",
     "exception": false,
     "start_time": "2024-09-17T11:08:37.036587",
     "status": "completed"
    },
    "tags": []
   },
   "outputs": [
    {
     "name": "stderr",
     "output_type": "stream",
     "text": [
      "/opt/conda/lib/python3.10/site-packages/seaborn/_oldcore.py:1119: FutureWarning: use_inf_as_na option is deprecated and will be removed in a future version. Convert inf values to NaN before operating instead.\n",
      "  with pd.option_context('mode.use_inf_as_na', True):\n"
     ]
    },
    {
     "data": {
      "text/plain": [
       "<seaborn.axisgrid.FacetGrid at 0x7cdb5d8a0f10>"
      ]
     },
     "execution_count": 4,
     "metadata": {},
     "output_type": "execute_result"
    },
    {
     "data": {
      "image/png": "[encoded data removed]",
      "text/plain": [
       "<Figure size 500x500 with 1 Axes>"
      ]
     },
     "metadata": {},
     "output_type": "display_data"
    }
   ],
   "source": [
    "sns.displot(data=df, x=df['price'], stat='count', bins='auto')"
   ]
  },
  {
   "cell_type": "code",
   "execution_count": null,
   "id": "57027116",
   "metadata": {
    "papermill": {
     "duration": 0.003923,
     "end_time": "2024-09-17T11:08:37.623839",
     "exception": false,
     "start_time": "2024-09-17T11:08:37.619916",
     "status": "completed"
    },
    "tags": []
   },
   "outputs": [],
   "source": []
  }
 ],
 "metadata": {
  "kaggle": {
   "accelerator": "none",
   "dataSources": [
    {
     "datasetId": 5679841,
     "sourceId": 9366344,
     "sourceType": "datasetVersion"
    }
   ],
   "dockerImageVersionId": 30761,
   "isGpuEnabled": false,
   "isInternetEnabled": false,
   "language": "python",
   "sourceType": "notebook"
  },
  "kernelspec": {
   "display_name": "Python 3",
   "language": "python",
   "name": "python3"
  },
  "language_info": {
   "codemirror_mode": {
    "name": "ipython",
    "version": 3
   },
   "file_extension": ".py",
   "mimetype": "text/x-python",
   "name": "python",
   "nbconvert_exporter": "python",
   "pygments_lexer": "ipython3",
   "version": "3.10.14"
  },
  "papermill": {
   "default_parameters": {},
   "duration": 6.709831,
   "end_time": "2024-09-17T11:08:38.250617",
   "environment_variables": {},
   "exception": null,
   "input_path": "__notebook__.ipynb",
   "output_path": "__notebook__.ipynb",
   "parameters": {},
   "start_time": "2024-09-17T11:08:31.540786",
   "version": "2.6.0"
  }
 },
 "nbformat": 4,
 "nbformat_minor": 5
}
